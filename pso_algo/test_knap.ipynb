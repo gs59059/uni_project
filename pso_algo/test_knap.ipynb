{
 "cells": [
  {
   "cell_type": "code",
   "execution_count": 25,
   "id": "a9af1e5a",
   "metadata": {},
   "outputs": [],
   "source": [
    "import binary_optimization as opt\n",
    "import numpy as np\n",
    "\n",
    "from sklearn import svm\n",
    "from sklearn import model_selection as ms\n",
    "from tqdm import tqdm\n",
    "import os\n",
    "import json\n",
    "import time"
   ]
  },
  {
   "cell_type": "code",
   "execution_count": 44,
   "id": "216e3296",
   "metadata": {},
   "outputs": [],
   "source": [
    "class Evaluate:\n",
    "    def __init__(self):\n",
    "        self.train_d = 25\n",
    "#         self.test_l = te_l\n",
    "#         self.test_d=te_d\n",
    "        self.K = 4\n",
    "    def evaluate(self,gen):\n",
    "        feat = np.array(gen)\n",
    "        path = r'C:\\Users\\User\\Desktop\\knapsack\\values'\n",
    "        item_list = os.listdir(path)\n",
    "        f = open(os.path.join(path,item_list[3]))\n",
    "\n",
    "        # returns JSON object as \n",
    "        # a dictionary\n",
    "        data = json.load(f)\n",
    "        num_item = data['n']\n",
    "        val = data['values']\n",
    "        wei = data['weights']\n",
    "        cap = data['capacity']\n",
    "        capacity = cap\n",
    "       #print(val)\n",
    "        #print(wei)\n",
    "        test = feat*wei\n",
    "        #print(np.sum(test))\n",
    "        #print(capacity)\n",
    "        if np.sum(test) > capacity:\n",
    "            fitness = -10\n",
    "        else:\n",
    "            fitness = np.sum(val*feat)\n",
    "\n",
    "        return fitness\n",
    "    def check_dimentions(self,dim):\n",
    "        if dim==None:\n",
    "            return self.train_d\n",
    "        else:\n",
    "            return dim"
   ]
  },
  {
   "cell_type": "code",
   "execution_count": 57,
   "id": "5c688e37",
   "metadata": {},
   "outputs": [],
   "source": [
    "start_time = time.time()\n",
    "s,g,l=opt.BPSO(Eval_Func=Evaluate,n=30,m_i=200)\n",
    "end_time = time.time()-start_time"
   ]
  },
  {
   "cell_type": "code",
   "execution_count": 58,
   "id": "dfead338",
   "metadata": {},
   "outputs": [
    {
     "data": {
      "text/plain": [
       "(13449,\n",
       " [1, 0, 1, 1, 1, 1, 1, 1, 1, 1, 0, 0, 0, 0, 0, 1, 0, 1, 0, 1, 0, 0, 0, 0, 0],\n",
       " 12,\n",
       " 1.0338449478149414)"
      ]
     },
     "execution_count": 58,
     "metadata": {},
     "output_type": "execute_result"
    }
   ],
   "source": [
    "s,g,l,end_time"
   ]
  },
  {
   "cell_type": "code",
   "execution_count": 59,
   "id": "d4752fd4",
   "metadata": {},
   "outputs": [
    {
     "data": {
      "text/plain": [
       "(3909, 5788, 10938, 13446)"
      ]
     },
     "execution_count": 59,
     "metadata": {},
     "output_type": "execute_result"
    }
   ],
   "source": [
    "3909,5788,10938,13446"
   ]
  },
  {
   "cell_type": "code",
   "execution_count": 60,
   "id": "a91bea01",
   "metadata": {},
   "outputs": [
    {
     "data": {
      "text/plain": [
       "(0.19, 0.52, 0.71, 0.984)"
      ]
     },
     "execution_count": 60,
     "metadata": {},
     "output_type": "execute_result"
    }
   ],
   "source": [
    "0.19,0.52,0.71,0.984"
   ]
  },
  {
   "cell_type": "code",
   "execution_count": null,
   "id": "7a8d6b73",
   "metadata": {},
   "outputs": [],
   "source": []
  }
 ],
 "metadata": {
  "kernelspec": {
   "display_name": "Python 3 (ipykernel)",
   "language": "python",
   "name": "python3"
  },
  "language_info": {
   "codemirror_mode": {
    "name": "ipython",
    "version": 3
   },
   "file_extension": ".py",
   "mimetype": "text/x-python",
   "name": "python",
   "nbconvert_exporter": "python",
   "pygments_lexer": "ipython3",
   "version": "3.9.7"
  }
 },
 "nbformat": 4,
 "nbformat_minor": 5
}
